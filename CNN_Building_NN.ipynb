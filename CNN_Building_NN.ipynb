{
  "nbformat": 4,
  "nbformat_minor": 0,
  "metadata": {
    "colab": {
      "name": "CNN- Building NN.ipynb",
      "provenance": [],
      "collapsed_sections": []
    },
    "kernelspec": {
      "name": "python3",
      "display_name": "Python 3"
    },
    "language_info": {
      "name": "python"
    },
    "accelerator": "GPU",
    "gpuClass": "standard"
  },
  "cells": [
    {
      "cell_type": "markdown",
      "source": [
        "# Introduction\n",
        "\n",
        "I'll be use the Happy House dataset for this Project, which contains images of peoples' faces. The task will be to build a ConvNet that determines whether the people in the images are smiling or not -- because they only get to enter the house if they're smiling!"
      ],
      "metadata": {
        "id": "W6JsnmWtmPyG"
      }
    },
    {
      "cell_type": "markdown",
      "source": [
        "# Importing the Required Libraries an Frameworks"
      ],
      "metadata": {
        "id": "bjyK0Ut6mlqB"
      }
    },
    {
      "cell_type": "code",
      "execution_count": null,
      "metadata": {
        "id": "ziMv969QOJYv"
      },
      "outputs": [],
      "source": [
        "import numpy as np\n",
        "import pandas as pd\n",
        "import matplotlib.pyplot as plt\n",
        "import h5py"
      ]
    },
    {
      "cell_type": "code",
      "source": [
        "import tensorflow as tf\n",
        "from tensorflow import keras\n",
        "from keras.models import Sequential \n",
        "from keras.layers import Conv2D, MaxPool2D, Input, ZeroPadding2D, BatchNormalization\n",
        "from keras.layers import Dense, Dropout, Flatten"
      ],
      "metadata": {
        "id": "Gnkd3L-qVcsE"
      },
      "execution_count": null,
      "outputs": []
    },
    {
      "cell_type": "markdown",
      "source": [
        "# Loading Data and Preprocessing"
      ],
      "metadata": {
        "id": "fFMubXv5mu0O"
      }
    },
    {
      "cell_type": "code",
      "source": [
        "#Reading Data Files\n",
        "train = h5py.File('/content/drive/MyDrive/Happy Model/train_happy.h5', \"r\")\n",
        "test = h5py.File('/content/drive/MyDrive/Happy Model/test_happy.h5', \"r\")"
      ],
      "metadata": {
        "id": "aL4TyfQePFgN"
      },
      "execution_count": null,
      "outputs": []
    },
    {
      "cell_type": "code",
      "source": [
        "train.keys()"
      ],
      "metadata": {
        "colab": {
          "base_uri": "https://localhost:8080/"
        },
        "id": "G7FJU-ZxQb7k",
        "outputId": "04511a84-80ca-4282-bcf7-36f4b065f52a"
      },
      "execution_count": null,
      "outputs": [
        {
          "output_type": "execute_result",
          "data": {
            "text/plain": [
              "<KeysViewHDF5 ['list_classes', 'train_set_x', 'train_set_y']>"
            ]
          },
          "metadata": {},
          "execution_count": 8
        }
      ]
    },
    {
      "cell_type": "code",
      "source": [
        "test.keys()"
      ],
      "metadata": {
        "colab": {
          "base_uri": "https://localhost:8080/"
        },
        "id": "s5A0ilgdSC_V",
        "outputId": "4a648ad3-f61d-4b33-c7a2-985dc050d4b0"
      },
      "execution_count": null,
      "outputs": [
        {
          "output_type": "execute_result",
          "data": {
            "text/plain": [
              "<KeysViewHDF5 ['list_classes', 'test_set_x', 'test_set_y']>"
            ]
          },
          "metadata": {},
          "execution_count": 9
        }
      ]
    },
    {
      "cell_type": "code",
      "source": [
        "#Creating the train and test files\n",
        "x_train = np.array(train['train_set_x'])\n",
        "y_train = np.array(train['train_set_y'])\n",
        "x_test = np.array(test['test_set_x'])\n",
        "y_test = np.array(test['test_set_y'])\n",
        "\n",
        "print('x train shape is', x_train.shape)\n",
        "print('y train shape is', y_train.shape)\n",
        "print('x test shape is', x_test.shape)\n",
        "print('y test shape is', y_test.shape)"
      ],
      "metadata": {
        "colab": {
          "base_uri": "https://localhost:8080/"
        },
        "id": "SFgmCmpLP8ps",
        "outputId": "11677106-bfde-4f0d-d050-77eeacfac293"
      },
      "execution_count": null,
      "outputs": [
        {
          "output_type": "stream",
          "name": "stdout",
          "text": [
            "x train shape is (600, 64, 64, 3)\n",
            "y train shape is (600,)\n",
            "x test shape is (150, 64, 64, 3)\n",
            "y test shape is (150,)\n"
          ]
        }
      ]
    },
    {
      "cell_type": "code",
      "source": [
        "#converting the y from being vectors to array\n",
        "y_train = y_train.reshape(y_train.shape[0], 1)\n",
        "y_test = y_test.reshape(y_test.shape[0], 1)\n",
        "\n",
        "print('y train shape is', y_train.shape)\n",
        "print('y test shape is', y_test.shape)"
      ],
      "metadata": {
        "colab": {
          "base_uri": "https://localhost:8080/"
        },
        "id": "O9kZgQlcTtiE",
        "outputId": "07090636-191d-4edf-ecfe-fc82e112b55e"
      },
      "execution_count": null,
      "outputs": [
        {
          "output_type": "stream",
          "name": "stdout",
          "text": [
            "y train shape is (600, 1)\n",
            "y test shape is (150, 1)\n"
          ]
        }
      ]
    },
    {
      "cell_type": "markdown",
      "source": [
        "# Visualizing Some Exanples of the data"
      ],
      "metadata": {
        "id": "XKdI_dr8m1EW"
      }
    },
    {
      "cell_type": "code",
      "source": [
        "# Data_visualization\n",
        "plt.imshow(x_train[0])\n",
        "plt.show()"
      ],
      "metadata": {
        "colab": {
          "base_uri": "https://localhost:8080/",
          "height": 268
        },
        "id": "ajavm8niUdjP",
        "outputId": "6c7fd23b-d1f9-47ac-9dbf-3d3d8188aa5c"
      },
      "execution_count": null,
      "outputs": [
        {
          "output_type": "display_data",
          "data": {
            "text/plain": [
              "<Figure size 432x288 with 1 Axes>"
            ],
            "image/png": "[encoded data removed]"
          },
          "metadata": {
            "needs_background": "light"
          }
        }
      ]
    },
    {
      "cell_type": "code",
      "source": [
        "print(y_train[0])"
      ],
      "metadata": {
        "colab": {
          "base_uri": "https://localhost:8080/"
        },
        "id": "njW1oxMPUsvk",
        "outputId": "19c93fe2-6563-4db9-9166-0d1d7e431d8b"
      },
      "execution_count": null,
      "outputs": [
        {
          "output_type": "stream",
          "name": "stdout",
          "text": [
            "[0]\n"
          ]
        }
      ]
    },
    {
      "cell_type": "code",
      "source": [
        "plt.imshow(x_test[0])\n",
        "plt.show()"
      ],
      "metadata": {
        "colab": {
          "base_uri": "https://localhost:8080/",
          "height": 268
        },
        "id": "28c_KS5WUo4d",
        "outputId": "6dbdb417-3c56-4151-e04d-1501007f56fd"
      },
      "execution_count": null,
      "outputs": [
        {
          "output_type": "display_data",
          "data": {
            "text/plain": [
              "<Figure size 432x288 with 1 Axes>"
            ],
            "image/png": "[encoded data removed]"
          },
          "metadata": {
            "needs_background": "light"
          }
        }
      ]
    },
    {
      "cell_type": "code",
      "source": [
        "print(y_test[0])"
      ],
      "metadata": {
        "colab": {
          "base_uri": "https://localhost:8080/"
        },
        "id": "a7nibvy3VG28",
        "outputId": "42ef10e6-be7f-4b99-fe45-69f4757e0877"
      },
      "execution_count": null,
      "outputs": [
        {
          "output_type": "stream",
          "name": "stdout",
          "text": [
            "[1]\n"
          ]
        }
      ]
    },
    {
      "cell_type": "markdown",
      "source": [
        "\n",
        "\n",
        "# Model Building"
      ],
      "metadata": {
        "id": "4dXn9smcm7ND"
      }
    },
    {
      "cell_type": "markdown",
      "source": [
        "Also, plug in the following parameters for all the steps:\n",
        "\n",
        " - [ZeroPadding2D](https://www.tensorflow.org/api_docs/python/tf/keras/layers/ZeroPadding2D): padding 3, input shape 64 x 64 x 3\n",
        " - [Conv2D](https://www.tensorflow.org/api_docs/python/tf/keras/layers/Conv2D): Use 32 7x7 filters, stride 1\n",
        " - [BatchNormalization](https://www.tensorflow.org/api_docs/python/tf/keras/layers/BatchNormalization): for axis 3\n",
        " - [ReLU](https://www.tensorflow.org/api_docs/python/tf/keras/layers/ReLU)\n",
        " - [MaxPool2D](https://www.tensorflow.org/api_docs/python/tf/keras/layers/MaxPool2D): Using default parameters\n",
        " - [Flatten](https://www.tensorflow.org/api_docs/python/tf/keras/layers/Flatten) the previous output.\n",
        " - Fully-connected ([Dense](https://www.tensorflow.org/api_docs/python/tf/keras/layers/Dense)) layer: Apply a fully connected layer with 1 neuron and a sigmoid activation. \n",
        " "
      ],
      "metadata": {
        "id": "HWFWAy-nosaP"
      }
    },
    {
      "cell_type": "code",
      "source": [
        "from keras.engine.input_layer import Input\n",
        "def happymodel():\n",
        "\n",
        "  model= Sequential()\n",
        "  model.add(Input(shape = ((64, 64, 3))))\n",
        "  model.add(ZeroPadding2D(padding=3))\n",
        "  model.add(Conv2D(filters=32, kernel_size=(7,7), activation ='relu'))\n",
        "  model.add(BatchNormalization())\n",
        "  model.add(MaxPool2D())\n",
        "  model.add(Flatten())\n",
        "  model.add(Dense(1, activation ='sigmoid'))\n",
        "\n",
        "\n",
        "  return model"
      ],
      "metadata": {
        "id": "UaAVPFygVXPz"
      },
      "execution_count": null,
      "outputs": []
    },
    {
      "cell_type": "markdown",
      "source": [
        "It's time to check the model's parameters with the .summary() method. This will display the types of layers, the shape of the outputs, and how many parameters are in each layer."
      ],
      "metadata": {
        "id": "q2b5V26YoMDA"
      }
    },
    {
      "cell_type": "code",
      "source": [
        "happy_model = happymodel()\n",
        "happy_model.summary()\n"
      ],
      "metadata": {
        "colab": {
          "base_uri": "https://localhost:8080/"
        },
        "id": "ZV4WcKy5ieKd",
        "outputId": "1813b958-38fc-4a69-81ab-4ab47d709fa8"
      },
      "execution_count": null,
      "outputs": [
        {
          "output_type": "stream",
          "name": "stdout",
          "text": [
            "Model: \"sequential\"\n",
            "_________________________________________________________________\n",
            " Layer (type)                Output Shape              Param #   \n",
            "=================================================================\n",
            " zero_padding2d (ZeroPadding  (None, 70, 70, 3)        0         \n",
            " 2D)                                                             \n",
            "                                                                 \n",
            " conv2d (Conv2D)             (None, 64, 64, 32)        4736      \n",
            "                                                                 \n",
            " batch_normalization (BatchN  (None, 64, 64, 32)       128       \n",
            " ormalization)                                                   \n",
            "                                                                 \n",
            " max_pooling2d (MaxPooling2D  (None, 32, 32, 32)       0         \n",
            " )                                                               \n",
            "                                                                 \n",
            " flatten (Flatten)           (None, 32768)             0         \n",
            "                                                                 \n",
            " dense (Dense)               (None, 1)                 32769     \n",
            "                                                                 \n",
            "=================================================================\n",
            "Total params: 37,633\n",
            "Trainable params: 37,569\n",
            "Non-trainable params: 64\n",
            "_________________________________________________________________\n"
          ]
        }
      ]
    },
    {
      "cell_type": "code",
      "source": [
        "happy_model.compile(optimizer='adam',\n",
        "                   loss='binary_crossentropy',\n",
        "                   metrics=['accuracy'])"
      ],
      "metadata": {
        "id": "NHfvJd9ykuEe"
      },
      "execution_count": null,
      "outputs": []
    },
    {
      "cell_type": "markdown",
      "source": [
        "# Model Training"
      ],
      "metadata": {
        "id": "Yvxzmp9Enj1l"
      }
    },
    {
      "cell_type": "code",
      "source": [
        "history = happy_model.fit(x_train, y_train, epochs=10, batch_size=16, validation_data=(x_test, y_test))"
      ],
      "metadata": {
        "colab": {
          "base_uri": "https://localhost:8080/"
        },
        "id": "ag1duqT2i_dQ",
        "outputId": "cc5babcb-0060-4a80-aac7-c887d8a04dd0"
      },
      "execution_count": null,
      "outputs": [
        {
          "output_type": "stream",
          "name": "stdout",
          "text": [
            "Epoch 1/10\n",
            "38/38 [==============================] - 0s 7ms/step - loss: 0.0468 - accuracy: 0.9850 - val_loss: 0.2379 - val_accuracy: 0.9000\n",
            "Epoch 2/10\n",
            "38/38 [==============================] - 0s 7ms/step - loss: 0.0313 - accuracy: 0.9883 - val_loss: 0.1909 - val_accuracy: 0.9267\n",
            "Epoch 3/10\n",
            "38/38 [==============================] - 0s 6ms/step - loss: 0.0393 - accuracy: 0.9850 - val_loss: 0.5070 - val_accuracy: 0.8533\n",
            "Epoch 4/10\n",
            "38/38 [==============================] - 0s 6ms/step - loss: 0.0383 - accuracy: 0.9850 - val_loss: 0.1205 - val_accuracy: 0.9533\n",
            "Epoch 5/10\n",
            "38/38 [==============================] - 0s 7ms/step - loss: 0.0389 - accuracy: 0.9817 - val_loss: 0.5288 - val_accuracy: 0.8600\n",
            "Epoch 6/10\n",
            "38/38 [==============================] - 0s 7ms/step - loss: 0.0238 - accuracy: 0.9933 - val_loss: 0.2326 - val_accuracy: 0.9000\n",
            "Epoch 7/10\n",
            "38/38 [==============================] - 0s 7ms/step - loss: 0.0300 - accuracy: 0.9933 - val_loss: 0.1063 - val_accuracy: 0.9533\n",
            "Epoch 8/10\n",
            "38/38 [==============================] - 0s 6ms/step - loss: 0.0201 - accuracy: 0.9933 - val_loss: 0.1444 - val_accuracy: 0.9533\n",
            "Epoch 9/10\n",
            "38/38 [==============================] - 0s 6ms/step - loss: 0.0178 - accuracy: 0.9950 - val_loss: 1.6487 - val_accuracy: 0.6467\n",
            "Epoch 10/10\n",
            "38/38 [==============================] - 0s 7ms/step - loss: 0.0181 - accuracy: 0.9950 - val_loss: 0.3143 - val_accuracy: 0.9000\n"
          ]
        }
      ]
    },
    {
      "cell_type": "markdown",
      "source": [
        "#Model Evaluation"
      ],
      "metadata": {
        "id": "AdJ_Bor8nou7"
      }
    },
    {
      "cell_type": "markdown",
      "source": [
        "Evaluation by .evaluate(). This function will print the value of the loss function and the performance metrics specified during the compilation of the model. In this case, the binary_crossentropy and the accuracy respectively."
      ],
      "metadata": {
        "id": "5ny5bTb5obe-"
      }
    },
    {
      "cell_type": "code",
      "source": [
        "happy_model.evaluate(x_test, y_test)"
      ],
      "metadata": {
        "colab": {
          "base_uri": "https://localhost:8080/"
        },
        "id": "mGcbHjZ5k3x3",
        "outputId": "f72337ec-a4c0-4810-fdc8-6bd0ac409e1f"
      },
      "execution_count": null,
      "outputs": [
        {
          "output_type": "stream",
          "name": "stdout",
          "text": [
            "5/5 [==============================] - 0s 17ms/step - loss: 0.1095 - accuracy: 0.9667\n"
          ]
        },
        {
          "output_type": "execute_result",
          "data": {
            "text/plain": [
              "[0.10948482155799866, 0.9666666388511658]"
            ]
          },
          "metadata": {},
          "execution_count": 22
        }
      ]
    },
    {
      "cell_type": "markdown",
      "source": [
        "# History Object"
      ],
      "metadata": {
        "id": "ZRTl735anziG"
      }
    },
    {
      "cell_type": "markdown",
      "source": [
        "The history object is an output of the .fit() operation, and provides a record of all the loss and metric values in memory. It's stored as a dictionary that you can retrieve at history.history:"
      ],
      "metadata": {
        "id": "204GVvHbo0MO"
      }
    },
    {
      "cell_type": "code",
      "source": [
        "history.history"
      ],
      "metadata": {
        "colab": {
          "base_uri": "https://localhost:8080/"
        },
        "id": "Emv1RiuRlNvh",
        "outputId": "c5596aeb-1de4-4739-c6ac-da64b0914e07"
      },
      "execution_count": null,
      "outputs": [
        {
          "output_type": "execute_result",
          "data": {
            "text/plain": [
              "{'accuracy': [0.9850000143051147,\n",
              "  0.9883333444595337,\n",
              "  0.9850000143051147,\n",
              "  0.9850000143051147,\n",
              "  0.9816666841506958,\n",
              "  0.9933333396911621,\n",
              "  0.9933333396911621,\n",
              "  0.9933333396911621,\n",
              "  0.9950000047683716,\n",
              "  0.9950000047683716],\n",
              " 'loss': [0.046829886734485626,\n",
              "  0.031339239329099655,\n",
              "  0.039321839809417725,\n",
              "  0.03828829526901245,\n",
              "  0.038886550813913345,\n",
              "  0.02383611910045147,\n",
              "  0.03004109114408493,\n",
              "  0.020085589960217476,\n",
              "  0.017781293019652367,\n",
              "  0.018071310594677925],\n",
              " 'val_accuracy': [0.8999999761581421,\n",
              "  0.9266666769981384,\n",
              "  0.8533333539962769,\n",
              "  0.95333331823349,\n",
              "  0.8600000143051147,\n",
              "  0.8999999761581421,\n",
              "  0.95333331823349,\n",
              "  0.95333331823349,\n",
              "  0.6466666460037231,\n",
              "  0.8999999761581421],\n",
              " 'val_loss': [0.23793309926986694,\n",
              "  0.1908666342496872,\n",
              "  0.5069611668586731,\n",
              "  0.12053024023771286,\n",
              "  0.5288441181182861,\n",
              "  0.2325635552406311,\n",
              "  0.10628391802310944,\n",
              "  0.1443594992160797,\n",
              "  1.648687720298767,\n",
              "  0.31433895230293274]}"
            ]
          },
          "metadata": {},
          "execution_count": 25
        }
      ]
    },
    {
      "cell_type": "code",
      "source": [
        "df_loss_acc = pd.DataFrame(history.history)\n",
        "df_loss= df_loss_acc[['loss','val_loss']]\n",
        "df_loss.rename(columns={'loss':'train','val_loss':'validation'},inplace=True)\n",
        "df_acc= df_loss_acc[['accuracy','val_accuracy']]\n",
        "df_acc.rename(columns={'accuracy':'train','val_accuracy':'validation'},inplace=True)\n",
        "df_loss.plot(title='Model loss',figsize=(12,8)).set(xlabel='Epoch',ylabel='Loss')\n",
        "df_acc.plot(title='Model Accuracy',figsize=(12,8)).set(xlabel='Epoch',ylabel='Accuracy')"
      ],
      "metadata": {
        "colab": {
          "base_uri": "https://localhost:8080/",
          "height": 1000
        },
        "id": "D7cEQh-xlWtO",
        "outputId": "62bd53fd-a7b8-43db-f72c-41b856938ead"
      },
      "execution_count": null,
      "outputs": [
        {
          "output_type": "stream",
          "name": "stderr",
          "text": [
            "/usr/local/lib/python3.7/dist-packages/pandas/core/frame.py:5047: SettingWithCopyWarning: \n",
            "A value is trying to be set on a copy of a slice from a DataFrame\n",
            "\n",
            "See the caveats in the documentation: https://pandas.pydata.org/pandas-docs/stable/user_guide/indexing.html#returning-a-view-versus-a-copy\n",
            "  errors=errors,\n"
          ]
        },
        {
          "output_type": "execute_result",
          "data": {
            "text/plain": [
              "[Text(0, 0.5, 'Accuracy'), Text(0.5, 0, 'Epoch')]"
            ]
          },
          "metadata": {},
          "execution_count": 26
        },
        {
          "output_type": "display_data",
          "data": {
            "text/plain": [
              "<Figure size 864x576 with 1 Axes>"
            ],
            "image/png": "[encoded data removed]"
          },
          "metadata": {
            "needs_background": "light"
          }
        },
        {
          "output_type": "display_data",
          "data": {
            "text/plain": [
              "<Figure size 864x576 with 1 Axes>"
            ],
            "image/png": "[encoded data removed]"
          },
          "metadata": {
            "needs_background": "light"
          }
        }
      ]
    }
  ]
}